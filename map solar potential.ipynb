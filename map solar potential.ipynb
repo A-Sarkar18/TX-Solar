{
 "cells": [
  {
   "cell_type": "code",
   "execution_count": 3,
   "id": "e9a2eda9",
   "metadata": {},
   "outputs": [],
   "source": [
    "# Import the relevant libraries\n",
    "import ee\n",
    "import geemap\n",
    "import pandas as pd\n",
    "# Initalize Earth Engine\n",
    "try:\n",
    "    ee.Initialize()\n",
    "except:\n",
    "    ee.Authenticate()\n",
    "    ee.Initialize()\n"
   ]
  },
  {
   "cell_type": "code",
   "execution_count": 4,
   "id": "0abde14e",
   "metadata": {},
   "outputs": [
    {
     "data": {
      "text/html": [
       "\n",
       "            <style>\n",
       "                .geemap-dark {\n",
       "                    --jp-widgets-color: white;\n",
       "                    --jp-widgets-label-color: white;\n",
       "                    --jp-ui-font-color1: white;\n",
       "                    --jp-layout-color2: #454545;\n",
       "                    background-color: #383838;\n",
       "                }\n",
       "\n",
       "                .geemap-dark .jupyter-button {\n",
       "                    --jp-layout-color3: #383838;\n",
       "                }\n",
       "\n",
       "                .geemap-colab {\n",
       "                    background-color: var(--colab-primary-surface-color, white);\n",
       "                }\n",
       "\n",
       "                .geemap-colab .jupyter-button {\n",
       "                    --jp-layout-color3: var(--colab-primary-surface-color, white);\n",
       "                }\n",
       "            </style>\n",
       "            "
      ],
      "text/plain": [
       "<IPython.core.display.HTML object>"
      ]
     },
     "metadata": {},
     "output_type": "display_data"
    },
    {
     "name": "stdout",
     "output_type": "stream",
     "text": [
      "    ADM1_NAME         mean   ADM2_NAME\n",
      "69      Texas  1970.383587     El Paso\n",
      "114     Texas  1957.271342    Hudspeth\n",
      "54      Texas  1902.100474   Culberson\n",
      "188     Texas  1886.894876    Presidio\n",
      "21      Texas  1867.212874    Brewster\n",
      "..        ...          ...         ...\n",
      "78      Texas  1502.575443   Fort Bend\n",
      "87      Texas  1500.922067      Goliad\n",
      "169     Texas  1498.334691  Montgomery\n",
      "234     Texas  1497.992881    Victoria\n",
      "99      Texas  1492.458752      Hardin\n",
      "\n",
      "[254 rows x 3 columns]\n"
     ]
    }
   ],
   "source": [
    "texas = ee.FeatureCollection(\"FAO/GAUL/2015/level2\").filter(ee.Filter.eq('ADM1_NAME', 'Texas'))\n",
    "\n",
    "# Access the solar potential raster image saved as a GEE asset\n",
    "solarpot = ee.Image(\"users/ayanman18/pvpot\")\n",
    "\n",
    "# Add reducer output to the Features in the collection\n",
    "solarPotFC = solarpot.reduceRegions(\n",
    "    collection=texas,\n",
    "    reducer=ee.Reducer.mean(),\n",
    "    scale=1000  # Define an appropriate scale\n",
    ")\n",
    "\n",
    "# Get the result as a list of dictionaries\n",
    "solarPotList = solarPotFC.getInfo()['features']\n",
    "\n",
    "# Extract relevant properties into a Pandas DataFrame\n",
    "solarPotdf = pd.DataFrame([{\n",
    "    'ADM1_NAME': feature['properties']['ADM1_NAME'],\n",
    "    'mean': feature['properties']['mean'],\n",
    "    'ADM2_NAME': feature['properties']['ADM2_NAME']\n",
    "} for feature in solarPotList])\n",
    "\n",
    "# Sort the DataFrame by PV potential per unit area\n",
    "solarPotdf_sorted = solarPotdf.sort_values(by='mean', ascending=False)\n",
    "\n",
    "# Print the sorted DataFrame\n",
    "print(solarPotdf_sorted)"
   ]
  },
  {
   "cell_type": "code",
   "execution_count": 5,
   "id": "034de2cd",
   "metadata": {},
   "outputs": [
    {
     "data": {
      "text/html": [
       "\n",
       "            <style>\n",
       "                .geemap-dark {\n",
       "                    --jp-widgets-color: white;\n",
       "                    --jp-widgets-label-color: white;\n",
       "                    --jp-ui-font-color1: white;\n",
       "                    --jp-layout-color2: #454545;\n",
       "                    background-color: #383838;\n",
       "                }\n",
       "\n",
       "                .geemap-dark .jupyter-button {\n",
       "                    --jp-layout-color3: #383838;\n",
       "                }\n",
       "\n",
       "                .geemap-colab {\n",
       "                    background-color: var(--colab-primary-surface-color, white);\n",
       "                }\n",
       "\n",
       "                .geemap-colab .jupyter-button {\n",
       "                    --jp-layout-color3: var(--colab-primary-surface-color, white);\n",
       "                }\n",
       "            </style>\n",
       "            "
      ],
      "text/plain": [
       "<IPython.core.display.HTML object>"
      ]
     },
     "metadata": {},
     "output_type": "display_data"
    }
   ],
   "source": [
    "solarPotdf_sorted['mean'] = solarPotdf_sorted['mean']/365"
   ]
  },
  {
   "cell_type": "code",
   "execution_count": 6,
   "id": "b26d0637",
   "metadata": {},
   "outputs": [
    {
     "data": {
      "text/html": [
       "\n",
       "            <style>\n",
       "                .geemap-dark {\n",
       "                    --jp-widgets-color: white;\n",
       "                    --jp-widgets-label-color: white;\n",
       "                    --jp-ui-font-color1: white;\n",
       "                    --jp-layout-color2: #454545;\n",
       "                    background-color: #383838;\n",
       "                }\n",
       "\n",
       "                .geemap-dark .jupyter-button {\n",
       "                    --jp-layout-color3: #383838;\n",
       "                }\n",
       "\n",
       "                .geemap-colab {\n",
       "                    background-color: var(--colab-primary-surface-color, white);\n",
       "                }\n",
       "\n",
       "                .geemap-colab .jupyter-button {\n",
       "                    --jp-layout-color3: var(--colab-primary-surface-color, white);\n",
       "                }\n",
       "            </style>\n",
       "            "
      ],
      "text/plain": [
       "<IPython.core.display.HTML object>"
      ]
     },
     "metadata": {},
     "output_type": "display_data"
    }
   ],
   "source": [
    "solarPotdf_sorted.to_csv('solar_potential_mean.csv', index=False)"
   ]
  }
 ],
 "metadata": {
  "kernelspec": {
   "display_name": "Python 3 (ipykernel)",
   "language": "python",
   "name": "python3"
  },
  "language_info": {
   "codemirror_mode": {
    "name": "ipython",
    "version": 3
   },
   "file_extension": ".py",
   "mimetype": "text/x-python",
   "name": "python",
   "nbconvert_exporter": "python",
   "pygments_lexer": "ipython3",
   "version": "3.10.9"
  }
 },
 "nbformat": 4,
 "nbformat_minor": 5
}
